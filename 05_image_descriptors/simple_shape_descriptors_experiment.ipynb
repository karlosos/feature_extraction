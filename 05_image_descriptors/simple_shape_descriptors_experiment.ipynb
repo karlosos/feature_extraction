{
 "cells": [
  {
   "cell_type": "markdown",
   "metadata": {},
   "source": [
    "# Eksperyment prostych deskryptorów kształtu"
   ]
  },
  {
   "cell_type": "markdown",
   "metadata": {},
   "source": [
    "## Porównywanie do wzorca - wszystkie deskryptory"
   ]
  },
  {
   "cell_type": "code",
   "execution_count": 2,
   "metadata": {},
   "outputs": [],
   "source": [
    "import shape_classifier as sc\n",
    "import simple_shape_descriptors as ssd\n",
    "from sklearn.metrics import classification_report"
   ]
  },
  {
   "cell_type": "code",
   "execution_count": 3,
   "metadata": {},
   "outputs": [],
   "source": [
    "X_train, y_train, X_test, y_test = ssd.prepare_dataset()"
   ]
  },
  {
   "cell_type": "code",
   "execution_count": 4,
   "metadata": {},
   "outputs": [],
   "source": [
    "clf = sc.ShapeClassifier()\n",
    "clf.fit(X_train, y_train)"
   ]
  },
  {
   "cell_type": "code",
   "execution_count": 5,
   "metadata": {},
   "outputs": [
    {
     "name": "stdout",
     "output_type": "stream",
     "text": [
      "               precision    recall  f1-score   support\n",
      "\n",
      "       01_bmw       1.00      0.23      0.38        13\n",
      "       02_kia       0.67      0.67      0.67        12\n",
      "03_mitsubishi       0.17      0.29      0.21        14\n",
      "     04_volvo       0.50      0.50      0.50         8\n",
      "  05_peugeout       0.08      0.12      0.10         8\n",
      "     06_honda       0.06      0.12      0.08         8\n",
      "    07_subaru       0.42      0.33      0.37        15\n",
      "     08_tesla       0.57      0.33      0.42        12\n",
      "   09_renault       0.08      0.12      0.10         8\n",
      "    10_toyota       0.20      0.07      0.11        14\n",
      "\n",
      "     accuracy                           0.29       112\n",
      "    macro avg       0.37      0.28      0.29       112\n",
      " weighted avg       0.40      0.29      0.30       112\n",
      "\n"
     ]
    }
   ],
   "source": [
    "y_pred = clf.predict(X_test)\n",
    "print(classification_report(y_test, y_pred))"
   ]
  },
  {
   "cell_type": "code",
   "execution_count": 6,
   "metadata": {},
   "outputs": [],
   "source": [
    "from sklearn.metrics import confusion_matrix\n",
    "from sklearn.metrics import plot_confusion_matrix\n",
    "import matplotlib.pyplot as plt"
   ]
  },
  {
   "cell_type": "code",
   "execution_count": 7,
   "metadata": {},
   "outputs": [
    {
     "data": {
      "text/plain": [
       "(array([0, 1, 2, 3, 4, 5, 6, 7, 8, 9]),\n",
       " [Text(0, 0, '01_bmw'),\n",
       "  Text(1, 0, '02_kia'),\n",
       "  Text(2, 0, '03_mitsubishi'),\n",
       "  Text(3, 0, '04_volvo'),\n",
       "  Text(4, 0, '05_peugeout'),\n",
       "  Text(5, 0, '06_honda'),\n",
       "  Text(6, 0, '07_subaru'),\n",
       "  Text(7, 0, '08_tesla'),\n",
       "  Text(8, 0, '09_renault'),\n",
       "  Text(9, 0, '10_toyota')])"
      ]
     },
     "execution_count": 7,
     "metadata": {},
     "output_type": "execute_result"
    },
    {
     "data": {
      "image/png": "[encoded data removed]",
      "text/plain": [
       "<Figure size 432x288 with 2 Axes>"
      ]
     },
     "metadata": {
      "needs_background": "light"
     },
     "output_type": "display_data"
    }
   ],
   "source": [
    "conf_matrix = confusion_matrix(y_test, y_pred)\n",
    "plot_confusion_matrix(clf, X_test, y_test)\n",
    "plt.xticks(rotation=90)"
   ]
  },
  {
   "cell_type": "markdown",
   "metadata": {},
   "source": [
    "## Dokładności deskryptorów"
   ]
  },
  {
   "cell_type": "code",
   "execution_count": 8,
   "metadata": {},
   "outputs": [
    {
     "name": "stdout",
     "output_type": "stream",
     "text": [
      "area 0.2857142857142857\n",
      "perimeter 0.1875\n",
      "diameter 0.25\n",
      "solidity 0.4375\n",
      "compactness 0.5892857142857143\n",
      "roundness 0.5892857142857143\n",
      "eccentricity 0.6964285714285714\n"
     ]
    }
   ],
   "source": [
    "from sklearn.metrics import accuracy_score\n",
    "descriptor_names = ['area', 'perimeter', 'diameter', 'solidity', 'compactness', 'roundness', 'eccentricity']\n",
    "for idx, name in enumerate(descriptor_names):\n",
    "    clf = sc.ShapeClassifier(limited=idx)\n",
    "    clf.fit(X_train, y_train)\n",
    "    y_pred = clf.predict(X_test)\n",
    "    print(name, accuracy_score(y_test, y_pred))"
   ]
  },
  {
   "cell_type": "markdown",
   "metadata": {},
   "source": [
    "## Drzewo decyzyjne"
   ]
  },
  {
   "cell_type": "code",
   "execution_count": 9,
   "metadata": {},
   "outputs": [],
   "source": [
    "from sklearn import tree\n",
    "from sklearn.metrics import confusion_matrix\n",
    "from sklearn.metrics import plot_confusion_matrix\n",
    "import matplotlib.pyplot as plt\n",
    "\n",
    "X_train_descriptors = [sc.ShapeClassifier.calculate_shape_descriptors(x) for x in X_train]\n",
    "X_test_descriptors = [sc.ShapeClassifier.calculate_shape_descriptors(x) for x in X_test]"
   ]
  },
  {
   "cell_type": "markdown",
   "metadata": {},
   "source": [
    "0 | 1 | 2 | 3 | 4 | 5 | 6 \n",
    "---|---|---|---|---|--|---\n",
    "area | perimeter | diameter | solidity | compactness | roundness | eccentricity"
   ]
  },
  {
   "cell_type": "code",
   "execution_count": 10,
   "metadata": {},
   "outputs": [],
   "source": [
    "clf = tree.DecisionTreeClassifier()\n",
    "clf = clf.fit(X_train_descriptors, y_train)"
   ]
  },
  {
   "cell_type": "code",
   "execution_count": 11,
   "metadata": {},
   "outputs": [
    {
     "name": "stdout",
     "output_type": "stream",
     "text": [
      "               precision    recall  f1-score   support\n",
      "\n",
      "       01_bmw       1.00      0.92      0.96        13\n",
      "       02_kia       0.91      0.83      0.87        12\n",
      "03_mitsubishi       1.00      1.00      1.00        14\n",
      "     04_volvo       1.00      0.75      0.86         8\n",
      "  05_peugeout       0.53      1.00      0.70         8\n",
      "     06_honda       0.67      1.00      0.80         8\n",
      "    07_subaru       0.70      0.47      0.56        15\n",
      "     08_tesla       1.00      0.67      0.80        12\n",
      "   09_renault       0.33      0.50      0.40         8\n",
      "    10_toyota       1.00      0.86      0.92        14\n",
      "\n",
      "     accuracy                           0.79       112\n",
      "    macro avg       0.81      0.80      0.79       112\n",
      " weighted avg       0.85      0.79      0.80       112\n",
      "\n"
     ]
    }
   ],
   "source": [
    "y_pred = clf.predict(X_test_descriptors)\n",
    "print(classification_report(y_test, y_pred))"
   ]
  },
  {
   "cell_type": "code",
   "execution_count": 15,
   "metadata": {},
   "outputs": [
    {
     "data": {
      "image/png": "[encoded data removed]",
      "text/plain": [
       "<Figure size 432x288 with 2 Axes>"
      ]
     },
     "metadata": {
      "needs_background": "light"
     },
     "output_type": "display_data"
    }
   ],
   "source": [
    "plot_confusion_matrix(clf, X_test_descriptors, y_test)\n",
    "plt.xticks(rotation=90)\n",
    "plt.savefig(\"confusion.eps\")"
   ]
  },
  {
   "cell_type": "code",
   "execution_count": 13,
   "metadata": {},
   "outputs": [
    {
     "name": "stdout",
     "output_type": "stream",
     "text": [
      "digraph Tree {\n",
      "node [shape=box] ;\n",
      "0 [label=\"X[4] <= 14.322\\ngini = 0.9\\nsamples = 20\\nvalue = [2, 2, 2, 2, 2, 2, 2, 2, 2, 2]\"] ;\n",
      "1 [label=\"gini = 0.0\\nsamples = 2\\nvalue = [2, 0, 0, 0, 0, 0, 0, 0, 0, 0]\"] ;\n",
      "0 -> 1 [labeldistance=2.5, labelangle=45, headlabel=\"True\"] ;\n",
      "2 [label=\"X[6] <= 0.96\\ngini = 0.889\\nsamples = 18\\nvalue = [0, 2, 2, 2, 2, 2, 2, 2, 2, 2]\"] ;\n",
      "0 -> 2 [labeldistance=2.5, labelangle=-45, headlabel=\"False\"] ;\n",
      "3 [label=\"gini = 0.0\\nsamples = 2\\nvalue = [0, 0, 0, 0, 2, 0, 0, 0, 0, 0]\"] ;\n",
      "2 -> 3 ;\n",
      "4 [label=\"X[5] <= 1.169\\ngini = 0.875\\nsamples = 16\\nvalue = [0, 2, 2, 2, 0, 2, 2, 2, 2, 2]\"] ;\n",
      "2 -> 4 ;\n",
      "5 [label=\"gini = 0.0\\nsamples = 2\\nvalue = [0, 0, 0, 0, 0, 2, 0, 0, 0, 0]\"] ;\n",
      "4 -> 5 ;\n",
      "6 [label=\"X[5] <= 1.224\\ngini = 0.857\\nsamples = 14\\nvalue = [0, 2, 2, 2, 0, 0, 2, 2, 2, 2]\"] ;\n",
      "4 -> 6 ;\n",
      "7 [label=\"gini = 0.0\\nsamples = 2\\nvalue = [0, 0, 0, 0, 0, 0, 0, 0, 0, 2]\"] ;\n",
      "6 -> 7 ;\n",
      "8 [label=\"X[4] <= 15.756\\ngini = 0.833\\nsamples = 12\\nvalue = [0, 2, 2, 2, 0, 0, 2, 2, 2, 0]\"] ;\n",
      "6 -> 8 ;\n",
      "9 [label=\"gini = 0.0\\nsamples = 2\\nvalue = [0, 0, 0, 2, 0, 0, 0, 0, 0, 0]\"] ;\n",
      "8 -> 9 ;\n",
      "10 [label=\"X[3] <= 0.628\\ngini = 0.8\\nsamples = 10\\nvalue = [0, 2, 2, 0, 0, 0, 2, 2, 2, 0]\"] ;\n",
      "8 -> 10 ;\n",
      "11 [label=\"gini = 0.0\\nsamples = 2\\nvalue = [0, 0, 0, 0, 0, 0, 0, 2, 0, 0]\"] ;\n",
      "10 -> 11 ;\n",
      "12 [label=\"X[4] <= 35.915\\ngini = 0.75\\nsamples = 8\\nvalue = [0, 2, 2, 0, 0, 0, 2, 0, 2, 0]\"] ;\n",
      "10 -> 12 ;\n",
      "13 [label=\"X[2] <= 322.043\\ngini = 0.667\\nsamples = 6\\nvalue = [0, 2, 0, 0, 0, 0, 2, 0, 2, 0]\"] ;\n",
      "12 -> 13 ;\n",
      "14 [label=\"gini = 0.0\\nsamples = 2\\nvalue = [0, 0, 0, 0, 0, 0, 0, 0, 2, 0]\"] ;\n",
      "13 -> 14 ;\n",
      "15 [label=\"X[1] <= 1403.304\\ngini = 0.5\\nsamples = 4\\nvalue = [0, 2, 0, 0, 0, 0, 2, 0, 0, 0]\"] ;\n",
      "13 -> 15 ;\n",
      "16 [label=\"gini = 0.0\\nsamples = 2\\nvalue = [0, 0, 0, 0, 0, 0, 2, 0, 0, 0]\"] ;\n",
      "15 -> 16 ;\n",
      "17 [label=\"gini = 0.0\\nsamples = 2\\nvalue = [0, 2, 0, 0, 0, 0, 0, 0, 0, 0]\"] ;\n",
      "15 -> 17 ;\n",
      "18 [label=\"gini = 0.0\\nsamples = 2\\nvalue = [0, 0, 2, 0, 0, 0, 0, 0, 0, 0]\"] ;\n",
      "12 -> 18 ;\n",
      "}\n"
     ]
    }
   ],
   "source": [
    "from sklearn import tree\n",
    "print(tree.export_graphviz(clf))"
   ]
  },
  {
   "cell_type": "code",
   "execution_count": null,
   "metadata": {},
   "outputs": [],
   "source": []
  },
  {
   "cell_type": "code",
   "execution_count": null,
   "metadata": {},
   "outputs": [],
   "source": []
  },
  {
   "cell_type": "code",
   "execution_count": null,
   "metadata": {},
   "outputs": [],
   "source": []
  }
 ],
 "metadata": {
  "kernelspec": {
   "display_name": "Python 3",
   "language": "python",
   "name": "python3"
  },
  "language_info": {
   "codemirror_mode": {
    "name": "ipython",
    "version": 3
   },
   "file_extension": ".py",
   "mimetype": "text/x-python",
   "name": "python",
   "nbconvert_exporter": "python",
   "pygments_lexer": "ipython3",
   "version": "3.8.6"
  }
 },
 "nbformat": 4,
 "nbformat_minor": 4
}
