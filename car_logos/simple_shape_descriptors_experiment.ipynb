{
 "cells": [
  {
   "cell_type": "markdown",
   "metadata": {},
   "source": [
    "# Eksperyment prostych deskryptorów kształtu"
   ]
  },
  {
   "cell_type": "markdown",
   "metadata": {},
   "source": [
    "## Porównywanie do wzorca - wszystkie deskryptory"
   ]
  },
  {
   "cell_type": "code",
   "execution_count": 1,
   "metadata": {},
   "outputs": [],
   "source": [
    "import shape_classifier as sc\n",
    "import simple_shape_descriptors as ssd\n",
    "from sklearn.metrics import classification_report"
   ]
  },
  {
   "cell_type": "code",
   "execution_count": 2,
   "metadata": {},
   "outputs": [],
   "source": [
    "X_train, y_train, X_test, y_test = ssd.prepare_dataset()"
   ]
  },
  {
   "cell_type": "code",
   "execution_count": 3,
   "metadata": {},
   "outputs": [],
   "source": [
    "clf = sc.ShapeClassifier()\n",
    "clf.fit(X_train, y_train)"
   ]
  },
  {
   "cell_type": "code",
   "execution_count": 4,
   "metadata": {},
   "outputs": [
    {
     "name": "stdout",
     "output_type": "stream",
     "text": [
      "               precision    recall  f1-score   support\n",
      "\n",
      "       01_bmw       1.00      0.23      0.38        13\n",
      "       02_kia       0.67      0.67      0.67        12\n",
      "03_mitsubishi       0.17      0.29      0.21        14\n",
      "     04_volvo       0.50      0.50      0.50         8\n",
      "  05_peugeout       0.08      0.12      0.10         8\n",
      "     06_honda       0.06      0.12      0.08         8\n",
      "    07_subaru       0.42      0.33      0.37        15\n",
      "     08_tesla       0.57      0.33      0.42        12\n",
      "   09_renault       0.08      0.12      0.10         8\n",
      "    10_toyota       0.20      0.07      0.11        14\n",
      "\n",
      "     accuracy                           0.29       112\n",
      "    macro avg       0.37      0.28      0.29       112\n",
      " weighted avg       0.40      0.29      0.30       112\n",
      "\n"
     ]
    }
   ],
   "source": [
    "y_pred = clf.predict(X_test)\n",
    "print(classification_report(y_test, y_pred))"
   ]
  },
  {
   "cell_type": "code",
   "execution_count": 5,
   "metadata": {},
   "outputs": [],
   "source": [
    "from sklearn.metrics import confusion_matrix\n",
    "from sklearn.metrics import plot_confusion_matrix\n",
    "import matplotlib.pyplot as plt"
   ]
  },
  {
   "cell_type": "code",
   "execution_count": 6,
   "metadata": {},
   "outputs": [
    {
     "data": {
      "text/plain": [
       "(array([0, 1, 2, 3, 4, 5, 6, 7, 8, 9]),\n",
       " [Text(0, 0, '01_bmw'),\n",
       "  Text(1, 0, '02_kia'),\n",
       "  Text(2, 0, '03_mitsubishi'),\n",
       "  Text(3, 0, '04_volvo'),\n",
       "  Text(4, 0, '05_peugeout'),\n",
       "  Text(5, 0, '06_honda'),\n",
       "  Text(6, 0, '07_subaru'),\n",
       "  Text(7, 0, '08_tesla'),\n",
       "  Text(8, 0, '09_renault'),\n",
       "  Text(9, 0, '10_toyota')])"
      ]
     },
     "execution_count": 6,
     "metadata": {},
     "output_type": "execute_result"
    },
    {
     "data": {
      "image/png": "[encoded data removed]",
      "text/plain": [
       "<Figure size 432x288 with 2 Axes>"
      ]
     },
     "metadata": {
      "needs_background": "light"
     },
     "output_type": "display_data"
    }
   ],
   "source": [
    "conf_matrix = confusion_matrix(y_test, y_pred)\n",
    "plot_confusion_matrix(clf, X_test, y_test)\n",
    "plt.xticks(rotation=90)"
   ]
  },
  {
   "cell_type": "markdown",
   "metadata": {},
   "source": [
    "## Dokładności deskryptorów"
   ]
  },
  {
   "cell_type": "code",
   "execution_count": 13,
   "metadata": {},
   "outputs": [
    {
     "name": "stdout",
     "output_type": "stream",
     "text": [
      "area 0.2857142857142857\n",
      "perimeter 0.1875\n",
      "diameter 0.25\n",
      "solidity 0.4375\n",
      "compactness 0.5892857142857143\n",
      "roundness 0.5892857142857143\n",
      "eccentricity 0.6964285714285714\n"
     ]
    }
   ],
   "source": [
    "from sklearn.metrics import accuracy_score\n",
    "descriptor_names = ['area', 'perimeter', 'diameter', 'solidity', 'compactness', 'roundness', 'eccentricity']\n",
    "for idx, name in enumerate(descriptor_names):\n",
    "    clf = sc.ShapeClassifier(limited=idx)\n",
    "    clf.fit(X_train, y_train)\n",
    "    y_pred = clf.predict(X_test)\n",
    "    print(name, accuracy_score(y_test, y_pred))"
   ]
  },
  {
   "cell_type": "markdown",
   "metadata": {},
   "source": [
    "## Drzewo decyzyjne"
   ]
  },
  {
   "cell_type": "code",
   "execution_count": 14,
   "metadata": {},
   "outputs": [],
   "source": [
    "from sklearn import tree\n",
    "from sklearn.metrics import confusion_matrix\n",
    "from sklearn.metrics import plot_confusion_matrix\n",
    "import matplotlib.pyplot as plt\n",
    "\n",
    "X_train_descriptors = [sc.ShapeClassifier.calculate_shape_descriptors(x) for x in X_train]\n",
    "X_test_descriptors = [sc.ShapeClassifier.calculate_shape_descriptors(x) for x in X_test]"
   ]
  },
  {
   "cell_type": "markdown",
   "metadata": {},
   "source": [
    "0 | 1 | 2 | 3 | 4 | 5 | 6 \n",
    "---|---|---|---|---|--|---\n",
    "area | perimeter | diameter | solidity | compactness | roundness | eccentricity"
   ]
  },
  {
   "cell_type": "code",
   "execution_count": 15,
   "metadata": {},
   "outputs": [],
   "source": [
    "clf = tree.DecisionTreeClassifier()\n",
    "clf = clf.fit(X_train_descriptors, y_train)"
   ]
  },
  {
   "cell_type": "code",
   "execution_count": 16,
   "metadata": {},
   "outputs": [
    {
     "name": "stdout",
     "output_type": "stream",
     "text": [
      "               precision    recall  f1-score   support\n",
      "\n",
      "       01_bmw       1.00      0.92      0.96        13\n",
      "       02_kia       1.00      0.83      0.91        12\n",
      "03_mitsubishi       0.57      0.29      0.38        14\n",
      "     04_volvo       0.80      0.50      0.62         8\n",
      "  05_peugeout       0.53      1.00      0.70         8\n",
      "     06_honda       0.12      0.38      0.19         8\n",
      "    07_subaru       0.83      0.67      0.74        15\n",
      "     08_tesla       0.24      0.42      0.30        12\n",
      "   09_renault       1.00      0.50      0.67         8\n",
      "    10_toyota       1.00      0.14      0.25        14\n",
      "\n",
      "     accuracy                           0.55       112\n",
      "    macro avg       0.71      0.56      0.57       112\n",
      " weighted avg       0.73      0.55      0.57       112\n",
      "\n"
     ]
    }
   ],
   "source": [
    "y_pred = clf.predict(X_test_descriptors)\n",
    "print(classification_report(y_test, y_pred))"
   ]
  },
  {
   "cell_type": "code",
   "execution_count": 17,
   "metadata": {},
   "outputs": [
    {
     "data": {
      "text/plain": [
       "(array([0, 1, 2, 3, 4, 5, 6, 7, 8, 9]),\n",
       " [Text(0, 0, '01_bmw'),\n",
       "  Text(1, 0, '02_kia'),\n",
       "  Text(2, 0, '03_mitsubishi'),\n",
       "  Text(3, 0, '04_volvo'),\n",
       "  Text(4, 0, '05_peugeout'),\n",
       "  Text(5, 0, '06_honda'),\n",
       "  Text(6, 0, '07_subaru'),\n",
       "  Text(7, 0, '08_tesla'),\n",
       "  Text(8, 0, '09_renault'),\n",
       "  Text(9, 0, '10_toyota')])"
      ]
     },
     "execution_count": 17,
     "metadata": {},
     "output_type": "execute_result"
    },
    {
     "data": {
      "image/png": "[encoded data removed]",
      "text/plain": [
       "<Figure size 432x288 with 2 Axes>"
      ]
     },
     "metadata": {
      "needs_background": "light"
     },
     "output_type": "display_data"
    }
   ],
   "source": [
    "plot_confusion_matrix(clf, X_test_descriptors, y_test)\n",
    "plt.xticks(rotation=90)"
   ]
  },
  {
   "cell_type": "code",
   "execution_count": 18,
   "metadata": {},
   "outputs": [
    {
     "name": "stdout",
     "output_type": "stream",
     "text": [
      "digraph Tree {\n",
      "node [shape=box] ;\n",
      "0 [label=\"X[6] <= 0.96\\ngini = 0.9\\nsamples = 20\\nvalue = [2, 2, 2, 2, 2, 2, 2, 2, 2, 2]\"] ;\n",
      "1 [label=\"gini = 0.0\\nsamples = 2\\nvalue = [0, 0, 0, 0, 2, 0, 0, 0, 0, 0]\"] ;\n",
      "0 -> 1 [labeldistance=2.5, labelangle=45, headlabel=\"True\"] ;\n",
      "2 [label=\"X[4] <= 14.322\\ngini = 0.889\\nsamples = 18\\nvalue = [2, 2, 2, 2, 0, 2, 2, 2, 2, 2]\"] ;\n",
      "0 -> 2 [labeldistance=2.5, labelangle=-45, headlabel=\"False\"] ;\n",
      "3 [label=\"gini = 0.0\\nsamples = 2\\nvalue = [2, 0, 0, 0, 0, 0, 0, 0, 0, 0]\"] ;\n",
      "2 -> 3 ;\n",
      "4 [label=\"X[0] <= 52598.0\\ngini = 0.875\\nsamples = 16\\nvalue = [0, 2, 2, 2, 0, 2, 2, 2, 2, 2]\"] ;\n",
      "2 -> 4 ;\n",
      "5 [label=\"X[6] <= 1.272\\ngini = 0.75\\nsamples = 8\\nvalue = [0, 0, 0, 0, 0, 0, 2, 2, 2, 2]\"] ;\n",
      "4 -> 5 ;\n",
      "6 [label=\"gini = 0.0\\nsamples = 2\\nvalue = [0, 0, 0, 0, 0, 0, 0, 2, 0, 0]\"] ;\n",
      "5 -> 6 ;\n",
      "7 [label=\"X[6] <= 1.417\\ngini = 0.667\\nsamples = 6\\nvalue = [0, 0, 0, 0, 0, 0, 2, 0, 2, 2]\"] ;\n",
      "5 -> 7 ;\n",
      "8 [label=\"gini = 0.0\\nsamples = 2\\nvalue = [0, 0, 0, 0, 0, 0, 0, 0, 2, 0]\"] ;\n",
      "7 -> 8 ;\n",
      "9 [label=\"X[5] <= 1.24\\ngini = 0.5\\nsamples = 4\\nvalue = [0, 0, 0, 0, 0, 0, 2, 0, 0, 2]\"] ;\n",
      "7 -> 9 ;\n",
      "10 [label=\"gini = 0.0\\nsamples = 2\\nvalue = [0, 0, 0, 0, 0, 0, 0, 0, 0, 2]\"] ;\n",
      "9 -> 10 ;\n",
      "11 [label=\"gini = 0.0\\nsamples = 2\\nvalue = [0, 0, 0, 0, 0, 0, 2, 0, 0, 0]\"] ;\n",
      "9 -> 11 ;\n",
      "12 [label=\"X[1] <= 1563.046\\ngini = 0.75\\nsamples = 8\\nvalue = [0, 2, 2, 2, 0, 2, 0, 0, 0, 0]\"] ;\n",
      "4 -> 12 ;\n",
      "13 [label=\"gini = 0.0\\nsamples = 2\\nvalue = [0, 0, 0, 0, 0, 2, 0, 0, 0, 0]\"] ;\n",
      "12 -> 13 ;\n",
      "14 [label=\"X[3] <= 0.83\\ngini = 0.667\\nsamples = 6\\nvalue = [0, 2, 2, 2, 0, 0, 0, 0, 0, 0]\"] ;\n",
      "12 -> 14 ;\n",
      "15 [label=\"gini = 0.0\\nsamples = 2\\nvalue = [0, 0, 2, 0, 0, 0, 0, 0, 0, 0]\"] ;\n",
      "14 -> 15 ;\n",
      "16 [label=\"X[6] <= 1.395\\ngini = 0.5\\nsamples = 4\\nvalue = [0, 2, 0, 2, 0, 0, 0, 0, 0, 0]\"] ;\n",
      "14 -> 16 ;\n",
      "17 [label=\"gini = 0.0\\nsamples = 2\\nvalue = [0, 0, 0, 2, 0, 0, 0, 0, 0, 0]\"] ;\n",
      "16 -> 17 ;\n",
      "18 [label=\"gini = 0.0\\nsamples = 2\\nvalue = [0, 2, 0, 0, 0, 0, 0, 0, 0, 0]\"] ;\n",
      "16 -> 18 ;\n",
      "}\n"
     ]
    }
   ],
   "source": [
    "from sklearn import tree\n",
    "print(tree.export_graphviz(clf))"
   ]
  }
 ],
 "metadata": {
  "kernelspec": {
   "display_name": "Python 3",
   "language": "python",
   "name": "python3"
  },
  "language_info": {
   "codemirror_mode": {
    "name": "ipython",
    "version": 3
   },
   "file_extension": ".py",
   "mimetype": "text/x-python",
   "name": "python",
   "nbconvert_exporter": "python",
   "pygments_lexer": "ipython3",
   "version": "3.8.6"
  }
 },
 "nbformat": 4,
 "nbformat_minor": 4
}
